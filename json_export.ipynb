{
 "cells": [
  {
   "cell_type": "code",
   "execution_count": 8,
   "id": "4140b312",
   "metadata": {},
   "outputs": [
    {
     "data": {
      "text/html": [
       "<div>\n",
       "<style scoped>\n",
       "    .dataframe tbody tr th:only-of-type {\n",
       "        vertical-align: middle;\n",
       "    }\n",
       "\n",
       "    .dataframe tbody tr th {\n",
       "        vertical-align: top;\n",
       "    }\n",
       "\n",
       "    .dataframe thead th {\n",
       "        text-align: right;\n",
       "    }\n",
       "</style>\n",
       "<table border=\"1\" class=\"dataframe\">\n",
       "  <thead>\n",
       "    <tr style=\"text-align: right;\">\n",
       "      <th></th>\n",
       "      <th>timestamp</th>\n",
       "      <th>question</th>\n",
       "      <th>top_score</th>\n",
       "      <th>needs_review</th>\n",
       "      <th>top_answers</th>\n",
       "      <th>draft</th>\n",
       "    </tr>\n",
       "  </thead>\n",
       "  <tbody>\n",
       "    <tr>\n",
       "      <th>0</th>\n",
       "      <td>2025-04-17 16:29:48.018081</td>\n",
       "      <td>Describe your cybersecurity policies.</td>\n",
       "      <td>0.60040</td>\n",
       "      <td>False</td>\n",
       "      <td>[Up-to-date cybersecurity, for both the DataDr...</td>\n",
       "      <td>Here is a revised answer based on the first ex...</td>\n",
       "    </tr>\n",
       "    <tr>\n",
       "      <th>1</th>\n",
       "      <td>2025-04-17 17:54:05.431020</td>\n",
       "      <td>Please describe three features or service diff...</td>\n",
       "      <td>0.57906</td>\n",
       "      <td>True</td>\n",
       "      <td>[The APX Stream DataDrive offers several advan...</td>\n",
       "      <td>[⚠ Needs review: low similarity score (0.58)]\\...</td>\n",
       "    </tr>\n",
       "  </tbody>\n",
       "</table>\n",
       "</div>"
      ],
      "text/plain": [
       "                   timestamp  \\\n",
       "0 2025-04-17 16:29:48.018081   \n",
       "1 2025-04-17 17:54:05.431020   \n",
       "\n",
       "                                            question  top_score  needs_review  \\\n",
       "0              Describe your cybersecurity policies.    0.60040         False   \n",
       "1  Please describe three features or service diff...    0.57906          True   \n",
       "\n",
       "                                         top_answers  \\\n",
       "0  [Up-to-date cybersecurity, for both the DataDr...   \n",
       "1  [The APX Stream DataDrive offers several advan...   \n",
       "\n",
       "                                               draft  \n",
       "0  Here is a revised answer based on the first ex...  \n",
       "1  [⚠ Needs review: low similarity score (0.58)]\\...  "
      ]
     },
     "execution_count": 8,
     "metadata": {},
     "output_type": "execute_result"
    }
   ],
   "source": [
    "import pandas as pd\n",
    "df = pd.read_json(\"logs/draft_log.jsonl\", lines=True)\n",
    "df[df[\"needs_review\"] == True]\n",
    "df\n"
   ]
  }
 ],
 "metadata": {
  "kernelspec": {
   "display_name": "dev",
   "language": "python",
   "name": "python3"
  },
  "language_info": {
   "codemirror_mode": {
    "name": "ipython",
    "version": 3
   },
   "file_extension": ".py",
   "mimetype": "text/x-python",
   "name": "python",
   "nbconvert_exporter": "python",
   "pygments_lexer": "ipython3",
   "version": "3.10.14"
  }
 },
 "nbformat": 4,
 "nbformat_minor": 5
}
